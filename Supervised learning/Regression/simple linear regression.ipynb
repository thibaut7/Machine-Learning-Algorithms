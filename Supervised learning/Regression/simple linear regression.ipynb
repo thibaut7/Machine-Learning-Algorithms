{
 "cells": [
  {
   "cell_type": "markdown",
   "metadata": {},
   "source": [
    "## SIMPLE LINEAR REGRESSION\n",
    "##### Author: thibaut7\n"
   ]
  },
  {
   "cell_type": "code",
   "execution_count": 1,
   "metadata": {},
   "outputs": [],
   "source": [
    "import numpy as np\n",
    "class SimpleLinearRegression:\n",
    "\n",
    "    def __init__(self) -> None:\n",
    "        pass\n",
    "    \n",
    "    def fit(self, X, y):\n",
    "\n",
    "        ## add a column of one to X\n",
    "        ones_column = np.ones((X.shape[0], 1))\n",
    "        X = np.hstack((ones_column, X))\n",
    "\n",
    "        ##Estimate the parameters\n",
    "        theta = np.dot(np.linalg.inv(np.dot(X.T, X)), np.dot(X.T, y))\n",
    "\n",
    "        ##Sum of Squared Errors and SST\n",
    "        SSE = np.sum((y - X.dot(theta)**2))\n",
    "        SST = np.sum((y-y.mean())**2)\n",
    "        \n",
    "        ##R-square\n",
    "        RSquare = 1 - SSE/SST \n",
    "\n",
    "        ##R ajust\n",
    "        "
   ]
  }
 ],
 "metadata": {
  "kernelspec": {
   "display_name": "Python 3",
   "language": "python",
   "name": "python3"
  },
  "language_info": {
   "codemirror_mode": {
    "name": "ipython",
    "version": 3
   },
   "file_extension": ".py",
   "mimetype": "text/x-python",
   "name": "python",
   "nbconvert_exporter": "python",
   "pygments_lexer": "ipython3",
   "version": "3.9.13"
  },
  "orig_nbformat": 4
 },
 "nbformat": 4,
 "nbformat_minor": 2
}
